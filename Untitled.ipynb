{
 "cells": [
  {
   "cell_type": "code",
   "execution_count": 1,
   "metadata": {},
   "outputs": [],
   "source": [
    "import requests\n",
    "import numpy as np\n",
    "import pandas as pd\n",
    "\n",
    "import nltk\n",
    "from nltk.sentiment.vader import SentimentIntensityAnalyzer\n",
    "\n",
    "from sklearn.feature_extraction.text import CountVectorizer\n",
    "from sklearn.metrics.pairwise import cosine_similarity as distance"
   ]
  },
  {
   "cell_type": "code",
   "execution_count": 2,
   "metadata": {},
   "outputs": [],
   "source": [
    "url = 'http://localhost:8080/conversations'\n",
    "all_data = requests.get(url)\n"
   ]
  },
  {
   "cell_type": "code",
   "execution_count": 3,
   "metadata": {},
   "outputs": [],
   "source": [
    "all_data = all_data.json()"
   ]
  },
  {
   "cell_type": "code",
   "execution_count": 4,
   "metadata": {},
   "outputs": [],
   "source": [
    "\n",
    "users_chats = {}\n",
    "for data in all_data:\n",
    "    users_chats.setdefault(data['user'], []).append(data['text'])\n",
    "\n",
    "for k, v in users_chats.items():\n",
    "    users_chats[k] = ' '.join(v)\n"
   ]
  },
  {
   "cell_type": "code",
   "execution_count": 5,
   "metadata": {},
   "outputs": [
    {
     "name": "stdout",
     "output_type": "stream",
     "text": [
      "Luke Skywalker    Luke Skywalker\n",
      "Obiwan                  Han Solo\n",
      "Chewbacca         Luke Skywalker\n",
      "Han Solo                  Obiwan\n",
      "dtype: object\n"
     ]
    }
   ],
   "source": [
    "\n",
    "count_vectorizer = CountVectorizer(stop_words='english')\n",
    "sparse_matrix = count_vectorizer.fit_transform(users_chats.values())\n",
    "\n",
    "doc_term_matrix = sparse_matrix.todense()\n",
    "df = pd.DataFrame(doc_term_matrix,\n",
    "                  columns=count_vectorizer.get_feature_names(),\n",
    "                  index=users_chats.keys())\n",
    "\n",
    "similarity_matrix = distance(df, df)\n",
    "sim_df = pd.DataFrame(\n",
    "    similarity_matrix, columns=users_chats.keys(), index=users_chats.keys())\n",
    "np.fill_diagonal(sim_df.values, 0)\n",
    "\n",
    "print(sim_df.idxmax())\n"
   ]
  },
  {
   "cell_type": "code",
   "execution_count": 8,
   "metadata": {},
   "outputs": [
    {
     "data": {
      "text/plain": [
       "Luke Skywalker    Luke Skywalker\n",
       "Obiwan                  Han Solo\n",
       "Chewbacca         Luke Skywalker\n",
       "Han Solo                  Obiwan\n",
       "dtype: object"
      ]
     },
     "execution_count": 8,
     "metadata": {},
     "output_type": "execute_result"
    }
   ],
   "source": [
    "final = sim_df.idxmax()\n",
    "final"
   ]
  },
  {
   "cell_type": "code",
   "execution_count": 23,
   "metadata": {},
   "outputs": [
    {
     "name": "stdout",
     "output_type": "stream",
     "text": [
      "i:  Luke Skywalker\n",
      "Luke Skywalker\n",
      "i:  Obiwan\n",
      "Han Solo\n",
      "i:  Chewbacca\n",
      "Luke Skywalker\n",
      "i:  Han Solo\n",
      "Obiwan\n"
     ]
    }
   ],
   "source": [
    "for i, e in final.items():\n",
    "    print ('i: ',i)\n",
    "    print (e)"
   ]
  },
  {
   "cell_type": "code",
   "execution_count": null,
   "metadata": {},
   "outputs": [],
   "source": []
  },
  {
   "cell_type": "code",
   "execution_count": null,
   "metadata": {},
   "outputs": [],
   "source": []
  }
 ],
 "metadata": {
  "kernelspec": {
   "display_name": "Python 3",
   "language": "python",
   "name": "python3"
  },
  "language_info": {
   "codemirror_mode": {
    "name": "ipython",
    "version": 3
   },
   "file_extension": ".py",
   "mimetype": "text/x-python",
   "name": "python",
   "nbconvert_exporter": "python",
   "pygments_lexer": "ipython3",
   "version": "3.7.5"
  }
 },
 "nbformat": 4,
 "nbformat_minor": 2
}
