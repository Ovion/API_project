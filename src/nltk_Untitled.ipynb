{
 "cells": [
  {
   "cell_type": "code",
   "execution_count": 1,
   "metadata": {},
   "outputs": [],
   "source": [
    "import requests\n",
    "import nltk\n",
    "from nltk.sentiment.vader import SentimentIntensityAnalyzer\n",
    "import pandas as pd\n",
    "from sklearn.feature_extraction.text import CountVectorizer"
   ]
  },
  {
   "cell_type": "code",
   "execution_count": 12,
   "metadata": {
    "scrolled": true
   },
   "outputs": [
    {
     "name": "stdout",
     "output_type": "stream",
     "text": [
      "<class 'requests.models.Response'>\n",
      "<class 'list'>\n"
     ]
    }
   ],
   "source": [
    "url = 'http://localhost:8080/conversations'\n",
    "all_data = requests.get(url)\n",
    "print(type(all_data))\n",
    "all_data = all_data.json()\n",
    "print(type(all_data))"
   ]
  },
  {
   "cell_type": "code",
   "execution_count": 13,
   "metadata": {
    "scrolled": true
   },
   "outputs": [
    {
     "data": {
      "text/plain": [
       "[{'user': 'Luke Skywalker',\n",
       "  'channel': 'Light Side',\n",
       "  'text': \"Hey! what's up Obiwan? Where are you?\"},\n",
       " {'user': 'Obiwan',\n",
       "  'channel': 'Light Side',\n",
       "  'text': \"Hi kiddo! I'm in Tatooine looking for a transport\"},\n",
       " {'user': 'Chewbacca',\n",
       "  'channel': 'Smugglers',\n",
       "  'text': 'UUUURR AHHAGR UUHGHAA GRRAAAHUU'},\n",
       " {'user': 'Han Solo',\n",
       "  'channel': 'Smugglers',\n",
       "  'text': \"I know Chewy, Tatooine isn't the best place to park our transport. But we don't have choice.\"},\n",
       " {'user': 'Luke Skywalker',\n",
       "  'channel': 'Light Side',\n",
       "  'text': 'May the force be with us'}]"
      ]
     },
     "execution_count": 13,
     "metadata": {},
     "output_type": "execute_result"
    }
   ],
   "source": [
    "all_data"
   ]
  },
  {
   "cell_type": "code",
   "execution_count": 42,
   "metadata": {},
   "outputs": [],
   "source": [
    "users_chats = {}\n",
    "for data in all_data:\n",
    "    users_chats.setdefault(data['user'], []).append(data['text'])\n",
    "    "
   ]
  },
  {
   "cell_type": "code",
   "execution_count": 43,
   "metadata": {},
   "outputs": [
    {
     "data": {
      "text/plain": [
       "{'Luke Skywalker': [\"Hey! what's up Obiwan? Where are you?\",\n",
       "  'May the force be with us'],\n",
       " 'Obiwan': [\"Hi kiddo! I'm in Tatooine looking for a transport\"],\n",
       " 'Chewbacca': ['UUUURR AHHAGR UUHGHAA GRRAAAHUU'],\n",
       " 'Han Solo': [\"I know Chewy, Tatooine isn't the best place to park our transport. But we don't have choice.\"]}"
      ]
     },
     "execution_count": 43,
     "metadata": {},
     "output_type": "execute_result"
    }
   ],
   "source": [
    "users_chats"
   ]
  },
  {
   "cell_type": "code",
   "execution_count": 44,
   "metadata": {},
   "outputs": [],
   "source": [
    "for k, v in users_chats.items():\n",
    "    users_chats[k]= ' '.join(v)"
   ]
  },
  {
   "cell_type": "code",
   "execution_count": 45,
   "metadata": {},
   "outputs": [
    {
     "data": {
      "text/plain": [
       "{'Luke Skywalker': \"Hey! what's up Obiwan? Where are you? May the force be with us\",\n",
       " 'Obiwan': \"Hi kiddo! I'm in Tatooine looking for a transport\",\n",
       " 'Chewbacca': 'UUUURR AHHAGR UUHGHAA GRRAAAHUU',\n",
       " 'Han Solo': \"I know Chewy, Tatooine isn't the best place to park our transport. But we don't have choice.\"}"
      ]
     },
     "execution_count": 45,
     "metadata": {},
     "output_type": "execute_result"
    }
   ],
   "source": [
    "users_chats"
   ]
  },
  {
   "cell_type": "code",
   "execution_count": 46,
   "metadata": {},
   "outputs": [
    {
     "data": {
      "text/plain": [
       "<4x20 sparse matrix of type '<class 'numpy.int64'>'\n",
       "\twith 22 stored elements in Compressed Sparse Row format>"
      ]
     },
     "execution_count": 46,
     "metadata": {},
     "output_type": "execute_result"
    }
   ],
   "source": [
    "count_vectorizer = CountVectorizer(stop_words='english')\n",
    "sparse_matrix = count_vectorizer.fit_transform(users_chats.values())\n",
    "sparse_matrix"
   ]
  },
  {
   "cell_type": "code",
   "execution_count": 48,
   "metadata": {},
   "outputs": [
    {
     "data": {
      "text/html": [
       "<div>\n",
       "<style scoped>\n",
       "    .dataframe tbody tr th:only-of-type {\n",
       "        vertical-align: middle;\n",
       "    }\n",
       "\n",
       "    .dataframe tbody tr th {\n",
       "        vertical-align: top;\n",
       "    }\n",
       "\n",
       "    .dataframe thead th {\n",
       "        text-align: right;\n",
       "    }\n",
       "</style>\n",
       "<table border=\"1\" class=\"dataframe\">\n",
       "  <thead>\n",
       "    <tr style=\"text-align: right;\">\n",
       "      <th></th>\n",
       "      <th>ahhagr</th>\n",
       "      <th>best</th>\n",
       "      <th>chewy</th>\n",
       "      <th>choice</th>\n",
       "      <th>don</th>\n",
       "      <th>force</th>\n",
       "      <th>grraaahuu</th>\n",
       "      <th>hey</th>\n",
       "      <th>hi</th>\n",
       "      <th>isn</th>\n",
       "      <th>kiddo</th>\n",
       "      <th>know</th>\n",
       "      <th>looking</th>\n",
       "      <th>obiwan</th>\n",
       "      <th>park</th>\n",
       "      <th>place</th>\n",
       "      <th>tatooine</th>\n",
       "      <th>transport</th>\n",
       "      <th>uuhghaa</th>\n",
       "      <th>uuuurr</th>\n",
       "    </tr>\n",
       "  </thead>\n",
       "  <tbody>\n",
       "    <tr>\n",
       "      <th>Luke Skywalker</th>\n",
       "      <td>0</td>\n",
       "      <td>0</td>\n",
       "      <td>0</td>\n",
       "      <td>0</td>\n",
       "      <td>0</td>\n",
       "      <td>1</td>\n",
       "      <td>0</td>\n",
       "      <td>1</td>\n",
       "      <td>0</td>\n",
       "      <td>0</td>\n",
       "      <td>0</td>\n",
       "      <td>0</td>\n",
       "      <td>0</td>\n",
       "      <td>1</td>\n",
       "      <td>0</td>\n",
       "      <td>0</td>\n",
       "      <td>0</td>\n",
       "      <td>0</td>\n",
       "      <td>0</td>\n",
       "      <td>0</td>\n",
       "    </tr>\n",
       "    <tr>\n",
       "      <th>Obiwan</th>\n",
       "      <td>0</td>\n",
       "      <td>0</td>\n",
       "      <td>0</td>\n",
       "      <td>0</td>\n",
       "      <td>0</td>\n",
       "      <td>0</td>\n",
       "      <td>0</td>\n",
       "      <td>0</td>\n",
       "      <td>1</td>\n",
       "      <td>0</td>\n",
       "      <td>1</td>\n",
       "      <td>0</td>\n",
       "      <td>1</td>\n",
       "      <td>0</td>\n",
       "      <td>0</td>\n",
       "      <td>0</td>\n",
       "      <td>1</td>\n",
       "      <td>1</td>\n",
       "      <td>0</td>\n",
       "      <td>0</td>\n",
       "    </tr>\n",
       "    <tr>\n",
       "      <th>Chewbacca</th>\n",
       "      <td>1</td>\n",
       "      <td>0</td>\n",
       "      <td>0</td>\n",
       "      <td>0</td>\n",
       "      <td>0</td>\n",
       "      <td>0</td>\n",
       "      <td>1</td>\n",
       "      <td>0</td>\n",
       "      <td>0</td>\n",
       "      <td>0</td>\n",
       "      <td>0</td>\n",
       "      <td>0</td>\n",
       "      <td>0</td>\n",
       "      <td>0</td>\n",
       "      <td>0</td>\n",
       "      <td>0</td>\n",
       "      <td>0</td>\n",
       "      <td>0</td>\n",
       "      <td>1</td>\n",
       "      <td>1</td>\n",
       "    </tr>\n",
       "    <tr>\n",
       "      <th>Han Solo</th>\n",
       "      <td>0</td>\n",
       "      <td>1</td>\n",
       "      <td>1</td>\n",
       "      <td>1</td>\n",
       "      <td>1</td>\n",
       "      <td>0</td>\n",
       "      <td>0</td>\n",
       "      <td>0</td>\n",
       "      <td>0</td>\n",
       "      <td>1</td>\n",
       "      <td>0</td>\n",
       "      <td>1</td>\n",
       "      <td>0</td>\n",
       "      <td>0</td>\n",
       "      <td>1</td>\n",
       "      <td>1</td>\n",
       "      <td>1</td>\n",
       "      <td>1</td>\n",
       "      <td>0</td>\n",
       "      <td>0</td>\n",
       "    </tr>\n",
       "  </tbody>\n",
       "</table>\n",
       "</div>"
      ],
      "text/plain": [
       "                ahhagr  best  chewy  choice  don  force  grraaahuu  hey  hi  \\\n",
       "Luke Skywalker       0     0      0       0    0      1          0    1   0   \n",
       "Obiwan               0     0      0       0    0      0          0    0   1   \n",
       "Chewbacca            1     0      0       0    0      0          1    0   0   \n",
       "Han Solo             0     1      1       1    1      0          0    0   0   \n",
       "\n",
       "                isn  kiddo  know  looking  obiwan  park  place  tatooine  \\\n",
       "Luke Skywalker    0      0     0        0       1     0      0         0   \n",
       "Obiwan            0      1     0        1       0     0      0         1   \n",
       "Chewbacca         0      0     0        0       0     0      0         0   \n",
       "Han Solo          1      0     1        0       0     1      1         1   \n",
       "\n",
       "                transport  uuhghaa  uuuurr  \n",
       "Luke Skywalker          0        0       0  \n",
       "Obiwan                  1        0       0  \n",
       "Chewbacca               0        1       1  \n",
       "Han Solo                1        0       0  "
      ]
     },
     "metadata": {},
     "output_type": "display_data"
    }
   ],
   "source": [
    "doc_term_matrix = sparse_matrix.todense()\n",
    "df = pd.DataFrame(doc_term_matrix, \n",
    "                  columns=count_vectorizer.get_feature_names(), \n",
    "                  index=users_chats.keys())\n",
    "display(df)"
   ]
  },
  {
   "cell_type": "code",
   "execution_count": 49,
   "metadata": {},
   "outputs": [],
   "source": [
    "from sklearn.metrics.pairwise import cosine_similarity as distance\n",
    "import numpy as np"
   ]
  },
  {
   "cell_type": "code",
   "execution_count": 51,
   "metadata": {},
   "outputs": [],
   "source": [
    "similarity_matrix = distance(df, df)\n",
    "sim_df = pd.DataFrame(similarity_matrix, columns=users_chats.keys(), index=users_chats.keys())\n",
    "np.fill_diagonal(sim_df.values, 0)"
   ]
  },
  {
   "cell_type": "code",
   "execution_count": 55,
   "metadata": {},
   "outputs": [
    {
     "data": {
      "text/plain": [
       "Luke Skywalker    Luke Skywalker\n",
       "Obiwan                  Han Solo\n",
       "Chewbacca         Luke Skywalker\n",
       "Han Solo                  Obiwan\n",
       "dtype: object"
      ]
     },
     "execution_count": 55,
     "metadata": {},
     "output_type": "execute_result"
    }
   ],
   "source": [
    "sim_df.idxmax()"
   ]
  },
  {
   "cell_type": "code",
   "execution_count": 58,
   "metadata": {},
   "outputs": [
    {
     "name": "stdout",
     "output_type": "stream",
     "text": [
      "AxesSubplot(0.125,0.125;0.62x0.755)\n"
     ]
    },
    {
     "data": {
      "image/png": "[encoded data removed]",
      "text/plain": [
       "<Figure size 432x288 with 2 Axes>"
      ]
     },
     "metadata": {
      "needs_background": "light"
     },
     "output_type": "display_data"
    }
   ],
   "source": [
    "import seaborn as sns\n",
    "print(sns.heatmap(sim_df,annot=True))"
   ]
  },
  {
   "cell_type": "code",
   "execution_count": null,
   "metadata": {},
   "outputs": [],
   "source": []
  },
  {
   "cell_type": "code",
   "execution_count": null,
   "metadata": {},
   "outputs": [],
   "source": []
  },
  {
   "cell_type": "code",
   "execution_count": 59,
   "metadata": {},
   "outputs": [
    {
     "data": {
      "text/plain": [
       "{'Luke Skywalker': \"Hey! what's up Obiwan? Where are you? May the force be with us\",\n",
       " 'Obiwan': \"Hi kiddo! I'm in Tatooine looking for a transport\",\n",
       " 'Chewbacca': 'UUUURR AHHAGR UUHGHAA GRRAAAHUU',\n",
       " 'Han Solo': \"I know Chewy, Tatooine isn't the best place to park our transport. But we don't have choice.\"}"
      ]
     },
     "execution_count": 59,
     "metadata": {},
     "output_type": "execute_result"
    }
   ],
   "source": [
    "users_chats\n"
   ]
  },
  {
   "cell_type": "code",
   "execution_count": 67,
   "metadata": {},
   "outputs": [],
   "source": [
    "sid = SentimentIntensityAnalyzer()\n",
    "\n",
    "users_sentiments = {}\n",
    "\n",
    "for user in users_chats:\n",
    "    users_sentiments[user] = sid.polarity_scores(users_chats[user])\n",
    "    "
   ]
  },
  {
   "cell_type": "code",
   "execution_count": 73,
   "metadata": {},
   "outputs": [
    {
     "data": {
      "text/plain": [
       "{'Luke Skywalker': {'neg': 0.0, 'neu': 1.0, 'pos': 0.0, 'compound': 0.0},\n",
       " 'Obiwan': {'neg': 0.0, 'neu': 1.0, 'pos': 0.0, 'compound': 0.0},\n",
       " 'Chewbacca': {'neg': 0.0, 'neu': 1.0, 'pos': 0.0, 'compound': 0.0},\n",
       " 'Han Solo': {'neg': 0.183, 'neu': 0.817, 'pos': 0.0, 'compound': -0.5216}}"
      ]
     },
     "execution_count": 73,
     "metadata": {},
     "output_type": "execute_result"
    }
   ],
   "source": [
    "users_sentiments"
   ]
  },
  {
   "cell_type": "code",
   "execution_count": 76,
   "metadata": {},
   "outputs": [],
   "source": [
    "users_sent = {}\n",
    "for keys, values in users_sentiments.items():\n",
    "    for k, v in values.items():\n",
    "        if k == 'compound':\n",
    "            users_sent[keys] = v\n",
    "        "
   ]
  },
  {
   "cell_type": "code",
   "execution_count": 77,
   "metadata": {},
   "outputs": [
    {
     "data": {
      "text/plain": [
       "{'Luke Skywalker': 0.0, 'Obiwan': 0.0, 'Chewbacca': 0.0, 'Han Solo': -0.5216}"
      ]
     },
     "execution_count": 77,
     "metadata": {},
     "output_type": "execute_result"
    }
   ],
   "source": [
    "users_sent"
   ]
  },
  {
   "cell_type": "code",
   "execution_count": 81,
   "metadata": {},
   "outputs": [],
   "source": [
    "users_join_side={}\n",
    "for k, v in users_sent.items():\n",
    "    if v > 0:\n",
    "        users_join_side[k]= 'Light Side'\n",
    "    elif v < 0:\n",
    "        users_join_side[k]= 'Dark Side'\n",
    "    else:\n",
    "        users_join_side[k] = 'Not defined'\n",
    "        "
   ]
  },
  {
   "cell_type": "code",
   "execution_count": 82,
   "metadata": {},
   "outputs": [
    {
     "data": {
      "text/plain": [
       "{'Luke Skywalker': 'Not defined',\n",
       " 'Obiwan': 'Not defined',\n",
       " 'Chewbacca': 'Not defined',\n",
       " 'Han Solo': 'Dark Side'}"
      ]
     },
     "execution_count": 82,
     "metadata": {},
     "output_type": "execute_result"
    }
   ],
   "source": [
    "users_join_side"
   ]
  },
  {
   "cell_type": "code",
   "execution_count": 63,
   "metadata": {},
   "outputs": [
    {
     "name": "stderr",
     "output_type": "stream",
     "text": [
      "[nltk_data] Downloading package vader_lexicon to\n",
      "[nltk_data]     /home/ovi/nltk_data...\n"
     ]
    },
    {
     "data": {
      "text/plain": [
       "True"
      ]
     },
     "execution_count": 63,
     "metadata": {},
     "output_type": "execute_result"
    }
   ],
   "source": [
    "import nltk\n",
    "nltk.download('vader_lexicon')"
   ]
  },
  {
   "cell_type": "code",
   "execution_count": null,
   "metadata": {},
   "outputs": [],
   "source": []
  }
 ],
 "metadata": {
  "kernelspec": {
   "display_name": "Python 3",
   "language": "python",
   "name": "python3"
  },
  "language_info": {
   "codemirror_mode": {
    "name": "ipython",
    "version": 3
   },
   "file_extension": ".py",
   "mimetype": "text/x-python",
   "name": "python",
   "nbconvert_exporter": "python",
   "pygments_lexer": "ipython3",
   "version": "3.7.5"
  }
 },
 "nbformat": 4,
 "nbformat_minor": 2
}
