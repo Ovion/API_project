{
 "cells": [
  {
   "cell_type": "code",
   "execution_count": 1,
   "metadata": {},
   "outputs": [],
   "source": [
    "import requests"
   ]
  },
  {
   "cell_type": "code",
   "execution_count": 2,
   "metadata": {},
   "outputs": [
    {
     "data": {
      "text/plain": [
       "'{\"inserted_doc\": \"5de42869b366424e510fd8cc\"}'"
      ]
     },
     "execution_count": 2,
     "metadata": {},
     "output_type": "execute_result"
    }
   ],
   "source": [
    "# url = 'http://localhost:8080/conversation/new'\n",
    "# params = {\n",
    "#     'user': 'Luke Skywalker',\n",
    "#     'channel': 1,\n",
    "#     'text': \"Hey! what's up Obiwan?\"\n",
    "# }\n",
    "# requests.post(url, data = params).text"
   ]
  },
  {
   "cell_type": "code",
   "execution_count": 6,
   "metadata": {},
   "outputs": [
    {
     "data": {
      "text/plain": [
       "'{\"inserted_doc\": \"5de557a61f7be8fba399cf20\", \"user_id\": 5}'"
      ]
     },
     "execution_count": 6,
     "metadata": {},
     "output_type": "execute_result"
    }
   ],
   "source": [
    "url = 'http://localhost:8080/user/new'\n",
    "params = {\n",
    "    'user': 'Leia Organa'\n",
    "}\n",
    "requests.post(url, data=params).text"
   ]
  },
  {
   "cell_type": "code",
   "execution_count": 2,
   "metadata": {},
   "outputs": [
    {
     "data": {
      "text/plain": [
       "'{\"inserted_doc\": \"5de4e5c87417c5a2a8403e09\", \"chat_id\": 5}'"
      ]
     },
     "execution_count": 2,
     "metadata": {},
     "output_type": "execute_result"
    }
   ],
   "source": [
    "url = 'http://localhost:8080/conversation/new'\n",
    "params = {\n",
    "    'id_user': 1,\n",
    "    'channel': 'Light Side',\n",
    "    'text': \"May the force be with us\"\n",
    "}\n",
    "requests.post(url, data = params).text"
   ]
  },
  {
   "cell_type": "code",
   "execution_count": 2,
   "metadata": {},
   "outputs": [],
   "source": [
    "url = 'http://localhost:8080/conversations'\n",
    "all_data = requests.get(url)"
   ]
  },
  {
   "cell_type": "code",
   "execution_count": 6,
   "metadata": {},
   "outputs": [
    {
     "name": "stdout",
     "output_type": "stream",
     "text": [
      "<class 'requests.models.Response'>\n"
     ]
    }
   ],
   "source": [
    "print(type(all_data))"
   ]
  },
  {
   "cell_type": "code",
   "execution_count": null,
   "metadata": {},
   "outputs": [],
   "source": []
  },
  {
   "cell_type": "code",
   "execution_count": 4,
   "metadata": {},
   "outputs": [
    {
     "data": {
      "text/plain": [
       "[{'user': 'Luke Skywalker',\n",
       "  'channel': 'Light Side',\n",
       "  'text': \"Hey! what's up Obiwan? Where are you?\"},\n",
       " {'user': 'Obiwan',\n",
       "  'channel': 'Light Side',\n",
       "  'text': \"Hi kiddo! I'm in Tatooine looking for a transport\"},\n",
       " {'user': 'Chewbacca',\n",
       "  'channel': 'Smugglers',\n",
       "  'text': 'UUUURR AHHAGR UUHGHAA GRRAAAHUU'},\n",
       " {'user': 'Han Solo',\n",
       "  'channel': 'Smugglers',\n",
       "  'text': \"I know Chewy, Tatooine isn't the best place to park our transport. But we don't have choice.\"},\n",
       " {'user': 'Luke Skywalker',\n",
       "  'channel': 'Light Side',\n",
       "  'text': 'May the force be with us'}]"
      ]
     },
     "execution_count": 4,
     "metadata": {},
     "output_type": "execute_result"
    }
   ],
   "source": [
    "all_data.json()"
   ]
  },
  {
   "cell_type": "code",
   "execution_count": 7,
   "metadata": {},
   "outputs": [
    {
     "data": {
      "text/plain": [
       "<Response [200]>"
      ]
     },
     "execution_count": 7,
     "metadata": {},
     "output_type": "execute_result"
    }
   ],
   "source": [
    "url = 'http://localhost:8080/conversations/sentimental'\n",
    "requests.get(url)"
   ]
  },
  {
   "cell_type": "code",
   "execution_count": null,
   "metadata": {},
   "outputs": [],
   "source": []
  },
  {
   "cell_type": "code",
   "execution_count": null,
   "metadata": {},
   "outputs": [],
   "source": []
  },
  {
   "cell_type": "code",
   "execution_count": 4,
   "metadata": {},
   "outputs": [],
   "source": [
    "url = 'http://localhost:8080/conversations'\n",
    "all_data = requests.get(url)\n",
    "all_data = all_data.json()"
   ]
  },
  {
   "cell_type": "code",
   "execution_count": 5,
   "metadata": {},
   "outputs": [
    {
     "data": {
      "text/plain": [
       "[{'user': 'Luke Skywalker',\n",
       "  'channel': 'Light Side',\n",
       "  'text': \"Hey! what's up Obiwan? Where are you?\"},\n",
       " {'user': 'Obiwan',\n",
       "  'channel': 'Light Side',\n",
       "  'text': \"Hi kiddo! I'm in Tatooine looking for a transport\"},\n",
       " {'user': 'Chewbacca',\n",
       "  'channel': 'Smugglers',\n",
       "  'text': 'UUUURR AHHAGR UUHGHAA GRRAAAHUU'},\n",
       " {'user': 'Han Solo',\n",
       "  'channel': 'Smugglers',\n",
       "  'text': \"I know Chewy, Tatooine isn't the best place to park our transport. But we don't have choice.\"},\n",
       " {'user': 'Luke Skywalker',\n",
       "  'channel': 'Light Side',\n",
       "  'text': 'May the force be with us'}]"
      ]
     },
     "execution_count": 5,
     "metadata": {},
     "output_type": "execute_result"
    }
   ],
   "source": [
    "all_data"
   ]
  },
  {
   "cell_type": "code",
   "execution_count": null,
   "metadata": {},
   "outputs": [],
   "source": []
  },
  {
   "cell_type": "code",
   "execution_count": 7,
   "metadata": {},
   "outputs": [],
   "source": [
    "url = 'http://localhost:8080/users'\n",
    "bla = requests.get(url)"
   ]
  },
  {
   "cell_type": "code",
   "execution_count": 9,
   "metadata": {},
   "outputs": [
    {
     "data": {
      "text/plain": [
       "{'Luke Skywalker': 1,\n",
       " 'Obiwan': 2,\n",
       " 'Chewbacca': 3,\n",
       " 'Han Solo': 4,\n",
       " 'Leia Organa': 5}"
      ]
     },
     "execution_count": 9,
     "metadata": {},
     "output_type": "execute_result"
    }
   ],
   "source": [
    "bla.json()"
   ]
  },
  {
   "cell_type": "code",
   "execution_count": null,
   "metadata": {},
   "outputs": [],
   "source": []
  }
 ],
 "metadata": {
  "kernelspec": {
   "display_name": "Python 3",
   "language": "python",
   "name": "python3"
  },
  "language_info": {
   "codemirror_mode": {
    "name": "ipython",
    "version": 3
   },
   "file_extension": ".py",
   "mimetype": "text/x-python",
   "name": "python",
   "nbconvert_exporter": "python",
   "pygments_lexer": "ipython3",
   "version": "3.7.5"
  }
 },
 "nbformat": 4,
 "nbformat_minor": 2
}
