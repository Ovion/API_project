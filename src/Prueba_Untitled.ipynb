{
 "cells": [
  {
   "cell_type": "code",
   "execution_count": 1,
   "metadata": {},
   "outputs": [],
   "source": [
    "import requests"
   ]
  },
  {
   "cell_type": "code",
   "execution_count": 2,
   "metadata": {},
   "outputs": [
    {
     "data": {
      "text/plain": [
       "'{\"inserted_doc\": \"5de42869b366424e510fd8cc\"}'"
      ]
     },
     "execution_count": 2,
     "metadata": {},
     "output_type": "execute_result"
    }
   ],
   "source": [
    "# url = 'http://localhost:8080/conversation/new'\n",
    "# params = {\n",
    "#     'user': 'Luke Skywalker',\n",
    "#     'channel': 1,\n",
    "#     'text': \"Hey! what's up Obiwan?\"\n",
    "# }\n",
    "# requests.post(url, data = params).text"
   ]
  },
  {
   "cell_type": "code",
   "execution_count": 2,
   "metadata": {},
   "outputs": [
    {
     "data": {
      "text/plain": [
       "'{\"inserted_doc\": \"5de4a238997ab0c8fb5515f1\", \"user_id\": 4}'"
      ]
     },
     "execution_count": 2,
     "metadata": {},
     "output_type": "execute_result"
    }
   ],
   "source": [
    "url = 'http://localhost:8080/user/new'\n",
    "params = {\n",
    "    'user': 'Han Solo'\n",
    "}\n",
    "requests.post(url, data=params).text"
   ]
  },
  {
   "cell_type": "code",
   "execution_count": 3,
   "metadata": {},
   "outputs": [
    {
     "data": {
      "text/plain": [
       "'{\"inserted_doc\": \"5de4a23b997ab0c8fb5515f2\", \"chat_id\": 4}'"
      ]
     },
     "execution_count": 3,
     "metadata": {},
     "output_type": "execute_result"
    }
   ],
   "source": [
    "url = 'http://localhost:8080/conversation/new'\n",
    "params = {\n",
    "    'id_user': 4,\n",
    "    'channel': 'Smugglers',\n",
    "    'text': \"I know Chewy, Tatooine isn't the best place to park our transport. But we don't have choice.\"\n",
    "}\n",
    "requests.post(url, data = params).text"
   ]
  },
  {
   "cell_type": "code",
   "execution_count": 3,
   "metadata": {},
   "outputs": [],
   "source": [
    "url = 'http://localhost:8080/conversations'\n",
    "all_data = requests.get(url)"
   ]
  },
  {
   "cell_type": "code",
   "execution_count": 6,
   "metadata": {},
   "outputs": [
    {
     "data": {
      "text/plain": [
       "<Response [500]>"
      ]
     },
     "execution_count": 6,
     "metadata": {},
     "output_type": "execute_result"
    }
   ],
   "source": [
    "all_data"
   ]
  },
  {
   "cell_type": "code",
   "execution_count": null,
   "metadata": {},
   "outputs": [],
   "source": []
  }
 ],
 "metadata": {
  "kernelspec": {
   "display_name": "Python 3",
   "language": "python",
   "name": "python3"
  },
  "language_info": {
   "codemirror_mode": {
    "name": "ipython",
    "version": 3
   },
   "file_extension": ".py",
   "mimetype": "text/x-python",
   "name": "python",
   "nbconvert_exporter": "python",
   "pygments_lexer": "ipython3",
   "version": "3.7.5"
  }
 },
 "nbformat": 4,
 "nbformat_minor": 2
}
