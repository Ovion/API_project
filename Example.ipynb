{
 "cells": [
  {
   "cell_type": "markdown",
   "metadata": {},
   "source": [
    "# Example of use the sentimental chat API\n"
   ]
  },
  {
   "cell_type": "code",
   "execution_count": 1,
   "metadata": {},
   "outputs": [],
   "source": [
    "import requests"
   ]
  },
  {
   "cell_type": "markdown",
   "metadata": {},
   "source": [
    "## Create new user for the chat\n",
    "You must enter a user name, not choose yet"
   ]
  },
  {
   "cell_type": "code",
   "execution_count": 30,
   "metadata": {},
   "outputs": [
    {
     "data": {
      "text/plain": [
       "'{\"inserted_doc\": \"5de5f797d5a47c063f30a5ec\", \"user_id\": 7}'"
      ]
     },
     "execution_count": 30,
     "metadata": {},
     "output_type": "execute_result"
    }
   ],
   "source": [
    "url = 'http://localhost:8080/user/new'\n",
    "params = {\n",
    "    'user': 'Palpatine'\n",
    "}\n",
    "requests.post(url, data=params).text"
   ]
  },
  {
   "cell_type": "markdown",
   "metadata": {},
   "source": [
    "## Create new chat \n",
    "You must indicate user_id, channel, and text"
   ]
  },
  {
   "cell_type": "code",
   "execution_count": 35,
   "metadata": {},
   "outputs": [
    {
     "data": {
      "text/plain": [
       "'{\"inserted_doc\": \"5de5f829d5a47c063f30a5f1\", \"chat_id\": 35}'"
      ]
     },
     "execution_count": 35,
     "metadata": {},
     "output_type": "execute_result"
    }
   ],
   "source": [
    "url = 'http://localhost:8080/conversation/new'\n",
    "params = {\n",
    "    'id_user': 7,\n",
    "    'channel': 'Sith',\n",
    "    'text': \"You will burn these ideas away\"\n",
    "}\n",
    "requests.post(url, data = params).text"
   ]
  },
  {
   "cell_type": "markdown",
   "metadata": {},
   "source": [
    "## Get the user_id\n",
    "If you forget the user_id you can get it the way below"
   ]
  },
  {
   "cell_type": "code",
   "execution_count": 41,
   "metadata": {},
   "outputs": [],
   "source": [
    "url = 'http://localhost:8080/users'\n",
    "users = requests.get(url)"
   ]
  },
  {
   "cell_type": "code",
   "execution_count": 42,
   "metadata": {},
   "outputs": [
    {
     "data": {
      "text/plain": [
       "{'Luke Skywalker': 1,\n",
       " 'Obiwan': 2,\n",
       " 'Chewbacca': 3,\n",
       " 'Han Solo': 4,\n",
       " 'Leia Organa': 5,\n",
       " 'Darth Vader': 6,\n",
       " 'Palpatine': 7}"
      ]
     },
     "execution_count": 42,
     "metadata": {},
     "output_type": "execute_result"
    }
   ],
   "source": [
    "users.json()"
   ]
  },
  {
   "cell_type": "markdown",
   "metadata": {},
   "source": [
    "## Get all the conversations"
   ]
  },
  {
   "cell_type": "code",
   "execution_count": 36,
   "metadata": {},
   "outputs": [],
   "source": [
    "url = 'http://localhost:8080/conversations'\n",
    "all_data = requests.get(url)"
   ]
  },
  {
   "cell_type": "markdown",
   "metadata": {},
   "source": [
    "## Get sentimental analysis\n",
    "This function, recommend an user as a friend of another, based on the words they mention in their comments.\n",
    "It returns a dictionary"
   ]
  },
  {
   "cell_type": "code",
   "execution_count": 38,
   "metadata": {},
   "outputs": [],
   "source": [
    "url = 'http://localhost:8080/sentimental/friend'\n",
    "friend = requests.get(url)"
   ]
  },
  {
   "cell_type": "code",
   "execution_count": 39,
   "metadata": {},
   "outputs": [
    {
     "data": {
      "text/plain": [
       "'{\"Luke Skywalker\": \"Leia Organa\", \"Obiwan\": \"Luke Skywalker\", \"Chewbacca\": \"Luke Skywalker\", \"Han Solo\": \"Darth Vader\", \"Leia Organa\": \"Luke Skywalker\", \"Darth Vader\": \"Han Solo\", \"Palpatine\": \"Darth Vader\"}'"
      ]
     },
     "execution_count": 39,
     "metadata": {},
     "output_type": "execute_result"
    }
   ],
   "source": [
    "friend.text"
   ]
  },
  {
   "cell_type": "markdown",
   "metadata": {},
   "source": [
    "## Get the Side the user must join\n",
    "This function tell the user which side of the light they must join,\n",
    "based on the positive/neutral/negative words they used in their comments"
   ]
  },
  {
   "cell_type": "code",
   "execution_count": 40,
   "metadata": {},
   "outputs": [
    {
     "data": {
      "text/plain": [
       "'{\"Luke Skywalker\": \"Light Side\", \"Obiwan\": \"Light Side\", \"Chewbacca\": \"Not defined\", \"Han Solo\": \"Light Side\", \"Leia Organa\": \"Light Side\", \"Darth Vader\": \"Dark Side\", \"Palpatine\": \"Dark Side\"}'"
      ]
     },
     "execution_count": 40,
     "metadata": {},
     "output_type": "execute_result"
    }
   ],
   "source": [
    "url = 'http://localhost:8080/sentimental/side'\n",
    "side = requests.get(url)\n",
    "side.text"
   ]
  },
  {
   "cell_type": "code",
   "execution_count": null,
   "metadata": {},
   "outputs": [],
   "source": []
  },
  {
   "cell_type": "code",
   "execution_count": null,
   "metadata": {},
   "outputs": [],
   "source": []
  }
 ],
 "metadata": {
  "kernelspec": {
   "display_name": "Python 3",
   "language": "python",
   "name": "python3"
  },
  "language_info": {
   "codemirror_mode": {
    "name": "ipython",
    "version": 3
   },
   "file_extension": ".py",
   "mimetype": "text/x-python",
   "name": "python",
   "nbconvert_exporter": "python",
   "pygments_lexer": "ipython3",
   "version": "3.7.5"
  }
 },
 "nbformat": 4,
 "nbformat_minor": 2
}
